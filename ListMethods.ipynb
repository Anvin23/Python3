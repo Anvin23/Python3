{
 "cells": [
  {
   "cell_type": "code",
   "execution_count": 1,
   "metadata": {},
   "outputs": [
    {
     "name": "stdout",
     "output_type": "stream",
     "text": [
      "[1, 2, 3]\n"
     ]
    }
   ],
   "source": [
    "l=[1,2,3]\n",
    "print(l)"
   ]
  },
  {
   "cell_type": "code",
   "execution_count": 2,
   "metadata": {},
   "outputs": [
    {
     "name": "stdout",
     "output_type": "stream",
     "text": [
      "[1, 2, 3, 4]\n"
     ]
    }
   ],
   "source": [
    "l.append(4)\n",
    "# adds the element 4 at the end of the list\n",
    "print(l)"
   ]
  },
  {
   "cell_type": "code",
   "execution_count": 3,
   "metadata": {},
   "outputs": [
    {
     "name": "stdout",
     "output_type": "stream",
     "text": [
      "[5, 8, 12, 23, 90]\n"
     ]
    }
   ],
   "source": [
    "m=[12,5,8,23,90]\n",
    "m.sort()\n",
    "# sorts the list in ascending order\n",
    "print(m)"
   ]
  },
  {
   "cell_type": "code",
   "execution_count": 4,
   "metadata": {},
   "outputs": [
    {
     "name": "stdout",
     "output_type": "stream",
     "text": [
      "[90, 23, 12, 8, 5]\n"
     ]
    }
   ],
   "source": [
    "m.sort(reverse=True)\n",
    "# sorts the list in descending order\n",
    "print(m)"
   ]
  },
  {
   "cell_type": "code",
   "execution_count": 5,
   "metadata": {},
   "outputs": [
    {
     "name": "stdout",
     "output_type": "stream",
     "text": [
      "[6, 7, 9, 5, 3, 2, 1]\n"
     ]
    }
   ],
   "source": [
    "a=[1,2,3,5,9,7,6]\n",
    "a.reverse()\n",
    "# reverses the original list\n",
    "print(a)"
   ]
  },
  {
   "cell_type": "code",
   "execution_count": 11,
   "metadata": {},
   "outputs": [
    {
     "name": "stdout",
     "output_type": "stream",
     "text": [
      "3\n"
     ]
    }
   ],
   "source": [
    "b=[11,4,8,72,9,25,72]\n",
    "print(b.index(72))\n",
    "# prints the index(first occurence) of the specified element in the list\n",
    "# here 72 is present at index 3 and index 6"
   ]
  },
  {
   "cell_type": "code",
   "execution_count": 12,
   "metadata": {},
   "outputs": [
    {
     "name": "stdout",
     "output_type": "stream",
     "text": [
      "2\n"
     ]
    }
   ],
   "source": [
    "print(b.count(72))\n",
    "# counts the number of times the specified element occurs in the list"
   ]
  },
  {
   "cell_type": "code",
   "execution_count": 14,
   "metadata": {},
   "outputs": [
    {
     "name": "stdout",
     "output_type": "stream",
     "text": [
      "[1, 4, 6, 8, 10]\n"
     ]
    }
   ],
   "source": [
    "c=[2,4,6,8,10]\n",
    "d=c\n",
    "# d and c shares reference to the same list\n",
    "d[0]=1\n",
    "print(c)\n",
    "# change made in d is also reflected in c since they refer to the same list"
   ]
  },
  {
   "cell_type": "code",
   "execution_count": 15,
   "metadata": {},
   "outputs": [
    {
     "name": "stdout",
     "output_type": "stream",
     "text": [
      "[1, 3, 5, 7, 9]\n",
      "[25, 3, 5, 7, 9]\n"
     ]
    }
   ],
   "source": [
    "# to make a copy of a list we use copy function\n",
    "c=[1,3,5,7,9]\n",
    "d=c.copy()\n",
    "# here d is a different copy of the list c unlike earlier example\n",
    "d[0]=25\n",
    "print(c)\n",
    "print(d)"
   ]
  },
  {
   "cell_type": "code",
   "execution_count": 16,
   "metadata": {},
   "outputs": [
    {
     "name": "stdout",
     "output_type": "stream",
     "text": [
      "[1, 999, 3, 5, 7, 9]\n"
     ]
    }
   ],
   "source": [
    "c.insert(1,999)\n",
    "# inserts 999 in the first(specified) index in list c\n",
    "# insert(index,value)\n",
    "print(c)"
   ]
  },
  {
   "cell_type": "code",
   "execution_count": 17,
   "metadata": {},
   "outputs": [
    {
     "name": "stdout",
     "output_type": "stream",
     "text": [
      "[5, 10, 15, 20, 25, 30, 35, 40]\n"
     ]
    }
   ],
   "source": [
    "e=[5,10,15,20]\n",
    "f=[25,30,35,40]\n",
    "e.extend(f)\n",
    "# adds(appends) the whole list f to the end of the list e\n",
    "print(e)"
   ]
  },
  {
   "cell_type": "code",
   "execution_count": 18,
   "metadata": {},
   "outputs": [
    {
     "name": "stdout",
     "output_type": "stream",
     "text": [
      "[1, 2, 3, 4, 5, 6, 7, 8]\n"
     ]
    }
   ],
   "source": [
    "l=[1,2,3,4]\n",
    "m=[5,6,7,8]\n",
    "k=l+m\n",
    "# concatenates l and m and stores it in k\n",
    "# l and m are not modified\n",
    "print(k)"
   ]
  }
 ],
 "metadata": {
  "kernelspec": {
   "display_name": "Python 3",
   "language": "python",
   "name": "python3"
  },
  "language_info": {
   "codemirror_mode": {
    "name": "ipython",
    "version": 3
   },
   "file_extension": ".py",
   "mimetype": "text/x-python",
   "name": "python",
   "nbconvert_exporter": "python",
   "pygments_lexer": "ipython3",
   "version": "3.11.0"
  },
  "orig_nbformat": 4,
  "vscode": {
   "interpreter": {
    "hash": "c261aea317cc0286b3b3261fbba9abdec21eaa57589985bb7a274bf54d6cc0a7"
   }
  }
 },
 "nbformat": 4,
 "nbformat_minor": 2
}
