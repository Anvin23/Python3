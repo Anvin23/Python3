{
 "cells": [
  {
   "cell_type": "code",
   "execution_count": 1,
   "metadata": {},
   "outputs": [
    {
     "name": "stdout",
     "output_type": "stream",
     "text": [
      "(1, 2, 3, 4)\n"
     ]
    }
   ],
   "source": [
    "tup=(1,2,3,4)  # tuple is immutable\n",
    "print(tup)"
   ]
  },
  {
   "cell_type": "code",
   "execution_count": 2,
   "metadata": {},
   "outputs": [
    {
     "name": "stdout",
     "output_type": "stream",
     "text": [
      "<class 'int'>\n",
      "<class 'tuple'>\n"
     ]
    }
   ],
   "source": [
    "tup1=(1)  # this is considered as an integer in brackets\n",
    "tup2=(1,) # a comma should be given if we want to make a single element tuple\n",
    "print(type(tup1))\n",
    "print(type(tup2))"
   ]
  },
  {
   "cell_type": "code",
   "execution_count": 3,
   "metadata": {},
   "outputs": [
    {
     "name": "stdout",
     "output_type": "stream",
     "text": [
      "67\n",
      "89\n"
     ]
    }
   ],
   "source": [
    "tup=(23,67,1,89,206)\n",
    "print(tup[1])\n",
    "print(tup[-2])  # works similar to as in lists"
   ]
  },
  {
   "cell_type": "code",
   "execution_count": 4,
   "metadata": {},
   "outputs": [
    {
     "name": "stdout",
     "output_type": "stream",
     "text": [
      "Yes it is present\n"
     ]
    }
   ],
   "source": [
    "if 23 in tup:\n",
    "    print(\"Yes it is present\")"
   ]
  },
  {
   "cell_type": "code",
   "execution_count": 5,
   "metadata": {},
   "outputs": [
    {
     "name": "stdout",
     "output_type": "stream",
     "text": [
      "(67, 1)\n",
      "(23, 67, 1, 89, 206)\n"
     ]
    }
   ],
   "source": [
    "tup2=tup[1:3]\n",
    "# slicing will return a new tuple as tuple is immutable\n",
    "print(tup2)\n",
    "print(tup)"
   ]
  },
  {
   "cell_type": "code",
   "execution_count": 6,
   "metadata": {},
   "outputs": [
    {
     "name": "stdout",
     "output_type": "stream",
     "text": [
      "(12, 56.0, 'hello', True)\n"
     ]
    }
   ],
   "source": [
    "tup=(12,56.0,\"hello\",True)\n",
    "# tuple can contain multiple datatypes\n",
    "print(tup)"
   ]
  },
  {
   "cell_type": "code",
   "execution_count": 2,
   "metadata": {},
   "outputs": [
    {
     "name": "stdout",
     "output_type": "stream",
     "text": [
      "(1, 3, 5, 7, 9, 11)\n"
     ]
    }
   ],
   "source": [
    "tup=(1,3,5,7,13,11,19)\n",
    "# to manipulate a tuple, we have to convert it into a list\n",
    "# then make the required changes and convert it back to a tuple\n",
    "temp=list(tup)\n",
    "temp.pop()\n",
    "temp[4]=9\n",
    "tup=tuple(temp)\n",
    "print(tup)\n"
   ]
  },
  {
   "cell_type": "code",
   "execution_count": 4,
   "metadata": {},
   "outputs": [
    {
     "name": "stdout",
     "output_type": "stream",
     "text": [
      "(2, 4, 6, 8, 10, 12, 14, 16)\n"
     ]
    }
   ],
   "source": [
    "# we can concatenate two tuples without converting them to lists as we are not modifying the list \n",
    "# but creating a new one\n",
    "t1=(2,4,6,8)\n",
    "t2=(10,12,14,16)\n",
    "t3=t1+t2\n",
    "print(t3)"
   ]
  },
  {
   "cell_type": "code",
   "execution_count": 9,
   "metadata": {},
   "outputs": [
    {
     "name": "stdout",
     "output_type": "stream",
     "text": [
      "3\n"
     ]
    }
   ],
   "source": [
    "tup=(1,4,6,1,7,0,1,45,6,7,102)\n",
    "freq=tup.count(1)\n",
    "# returns the number of occurences of the specified element in the tuple\n",
    "print(freq)"
   ]
  },
  {
   "cell_type": "code",
   "execution_count": 10,
   "metadata": {},
   "outputs": [
    {
     "name": "stdout",
     "output_type": "stream",
     "text": [
      "2\n"
     ]
    }
   ],
   "source": [
    "ind=tup.index(6)\n",
    "# returns the index of the first occurence of the specified element\n",
    "# throws error if the value is not present in the tuple\n",
    "print(ind)"
   ]
  },
  {
   "cell_type": "code",
   "execution_count": 12,
   "metadata": {},
   "outputs": [
    {
     "name": "stdout",
     "output_type": "stream",
     "text": [
      "5\n"
     ]
    }
   ],
   "source": [
    "tup=(2,6,78,90,34,6,89,120)\n",
    "ind2=tup.index(6,3,7)\n",
    "# returns the index of the first occurence of the specified element in the specified range\n",
    "# throws error if the value is not present in the tuple\n",
    "# here it searches 6 in the tuple from index 4 to 8 and returns the index of the first occurence\n",
    "print(ind2)"
   ]
  },
  {
   "cell_type": "code",
   "execution_count": 13,
   "metadata": {},
   "outputs": [
    {
     "name": "stdout",
     "output_type": "stream",
     "text": [
      "6\n"
     ]
    }
   ],
   "source": [
    "t1=(23,678,54,30,58,88)\n",
    "size=len(t1)\n",
    "# returns the length of the tuple\n",
    "print(size)"
   ]
  }
 ],
 "metadata": {
  "kernelspec": {
   "display_name": "Python 3",
   "language": "python",
   "name": "python3"
  },
  "language_info": {
   "codemirror_mode": {
    "name": "ipython",
    "version": 3
   },
   "file_extension": ".py",
   "mimetype": "text/x-python",
   "name": "python",
   "nbconvert_exporter": "python",
   "pygments_lexer": "ipython3",
   "version": "3.11.0"
  },
  "orig_nbformat": 4,
  "vscode": {
   "interpreter": {
    "hash": "c261aea317cc0286b3b3261fbba9abdec21eaa57589985bb7a274bf54d6cc0a7"
   }
  }
 },
 "nbformat": 4,
 "nbformat_minor": 2
}
