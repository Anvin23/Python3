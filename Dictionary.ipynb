{
 "cells": [
  {
   "cell_type": "code",
   "execution_count": 2,
   "metadata": {},
   "outputs": [
    {
     "name": "stdout",
     "output_type": "stream",
     "text": [
      "{'a': 97, 'b': 98, 'A': 65, 'B': 66}\n",
      "97\n"
     ]
    }
   ],
   "source": [
    "# dictionary is an ordered collection of key value pairs\n",
    "ascii_val = {\n",
    "    'a' : 97,\n",
    "    'b' : 98,\n",
    "    'A' : 65,\n",
    "    'B' : 66\n",
    "}\n",
    "print(ascii_val)\n",
    "\n",
    "print(ascii_val['a'])\n",
    "# a value can be accessed using the key\n",
    "# this will give 'error' if the key is not present in the dictionary"
   ]
  },
  {
   "cell_type": "code",
   "execution_count": 4,
   "metadata": {},
   "outputs": [
    {
     "name": "stdout",
     "output_type": "stream",
     "text": [
      "97\n",
      "None\n"
     ]
    }
   ],
   "source": [
    "print(ascii_val.get('a'))\n",
    "print(ascii_val.get('c'))\n",
    "# this type of accessing a value using the key (using .get) will retutn none if key is not present"
   ]
  },
  {
   "cell_type": "code",
   "execution_count": 5,
   "metadata": {},
   "outputs": [
    {
     "name": "stdout",
     "output_type": "stream",
     "text": [
      "dict_keys(['a', 'b', 'A', 'B'])\n",
      "97\n",
      "98\n",
      "65\n",
      "66\n"
     ]
    }
   ],
   "source": [
    "print(ascii_val.keys())\n",
    "# prints all keys\n",
    "\n",
    "for key in ascii_val.keys():\n",
    "    print(ascii_val[key])\n",
    "# to access the values of keys using for loop"
   ]
  },
  {
   "cell_type": "code",
   "execution_count": 6,
   "metadata": {},
   "outputs": [
    {
     "name": "stdout",
     "output_type": "stream",
     "text": [
      "dict_values([97, 98, 65, 66])\n"
     ]
    }
   ],
   "source": [
    "print(ascii_val.values())\n",
    "# prints all values"
   ]
  },
  {
   "cell_type": "code",
   "execution_count": 7,
   "metadata": {},
   "outputs": [
    {
     "name": "stdout",
     "output_type": "stream",
     "text": [
      "The ascii value of a is 97\n",
      "The ascii value of b is 98\n",
      "The ascii value of A is 65\n",
      "The ascii value of B is 66\n"
     ]
    }
   ],
   "source": [
    "for key in ascii_val.keys():\n",
    "    print(f\"The ascii value of {key} is {ascii_val[key]}\")"
   ]
  },
  {
   "cell_type": "code",
   "execution_count": 8,
   "metadata": {},
   "outputs": [
    {
     "name": "stdout",
     "output_type": "stream",
     "text": [
      "dict_items([('a', 97), ('b', 98), ('A', 65), ('B', 66)])\n"
     ]
    }
   ],
   "source": [
    "print(ascii_val.items())\n",
    "# prints all key value pairs"
   ]
  },
  {
   "cell_type": "code",
   "execution_count": 9,
   "metadata": {},
   "outputs": [
    {
     "name": "stdout",
     "output_type": "stream",
     "text": [
      "a -> 97\n",
      "b -> 98\n",
      "A -> 65\n",
      "B -> 66\n"
     ]
    }
   ],
   "source": [
    "for key,value in ascii_val.items():\n",
    "    print(f\"{key} -> {value}\")"
   ]
  },
  {
   "cell_type": "code",
   "execution_count": 10,
   "metadata": {},
   "outputs": [
    {
     "name": "stdout",
     "output_type": "stream",
     "text": [
      "{'pen': 10, 'pencil': 5, 'notebook': 20, 'ruler': 4, 'eraser': 2}\n"
     ]
    }
   ],
   "source": [
    "shop1 = {\n",
    "    'pen' : 10,\n",
    "    'pencil' : 5,\n",
    "    'notebook' : 20\n",
    "}\n",
    "\n",
    "shop2 = {\n",
    "    'ruler' : 4,\n",
    "    'eraser' : 2\n",
    "}\n",
    "\n",
    "shop1.update(shop2)\n",
    "# adds key value pairs of shop2 to shop1\n",
    "\n",
    "print(shop1)"
   ]
  },
  {
   "cell_type": "code",
   "execution_count": 12,
   "metadata": {},
   "outputs": [
    {
     "name": "stdout",
     "output_type": "stream",
     "text": [
      "{}\n",
      "{}\n"
     ]
    }
   ],
   "source": [
    "shop2.clear()\n",
    "# clears(empties) the dictionary\n",
    "print(shop2)\n",
    "\n",
    "shop3 = {}\n",
    "# this is an empty dictionary\n",
    "print(shop3)"
   ]
  },
  {
   "cell_type": "code",
   "execution_count": 13,
   "metadata": {},
   "outputs": [
    {
     "name": "stdout",
     "output_type": "stream",
     "text": [
      "{111: 'a', 167: 'c'}\n"
     ]
    }
   ],
   "source": [
    "code = {\n",
    "    111 : 'a',\n",
    "    123 : 'b',\n",
    "    167 : 'c'\n",
    "}\n",
    "\n",
    "code.pop(123)\n",
    "# removes the key value pair of the specified key\n",
    "print(code)"
   ]
  },
  {
   "cell_type": "code",
   "execution_count": 14,
   "metadata": {},
   "outputs": [
    {
     "name": "stdout",
     "output_type": "stream",
     "text": [
      "{287: 'A', 278: 'B', 289: 'C'}\n"
     ]
    }
   ],
   "source": [
    "code2 = {\n",
    "    287 : 'A',\n",
    "    278 : 'B',\n",
    "    289 : 'C',\n",
    "    298 : 'D'\n",
    "}\n",
    "code2.popitem()\n",
    "\n",
    "# removes the last key value pair from the dictionary\n",
    "\n",
    "print(code2)"
   ]
  },
  {
   "cell_type": "code",
   "execution_count": 17,
   "metadata": {},
   "outputs": [
    {
     "name": "stdout",
     "output_type": "stream",
     "text": [
      "{'b': 'B'}\n"
     ]
    }
   ],
   "source": [
    "a = {\n",
    "    'a' : 'A',\n",
    "    'b' : 'B'\n",
    "}\n",
    "del(a['a'])\n",
    "# deletes the specified key value pair\n",
    "print(a)\n",
    "\n",
    "del(a)\n",
    "# deletes the entire dictionary if not provided a key\n",
    "\n",
    "# will throw error if we try to print\n",
    "# print(a)"
   ]
  }
 ],
 "metadata": {
  "kernelspec": {
   "display_name": "Python 3",
   "language": "python",
   "name": "python3"
  },
  "language_info": {
   "codemirror_mode": {
    "name": "ipython",
    "version": 3
   },
   "file_extension": ".py",
   "mimetype": "text/x-python",
   "name": "python",
   "nbconvert_exporter": "python",
   "pygments_lexer": "ipython3",
   "version": "3.11.0"
  },
  "orig_nbformat": 4,
  "vscode": {
   "interpreter": {
    "hash": "c261aea317cc0286b3b3261fbba9abdec21eaa57589985bb7a274bf54d6cc0a7"
   }
  }
 },
 "nbformat": 4,
 "nbformat_minor": 2
}
