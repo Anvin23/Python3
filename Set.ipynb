{
 "cells": [
  {
   "cell_type": "code",
   "execution_count": 1,
   "metadata": {},
   "outputs": [
    {
     "name": "stdout",
     "output_type": "stream",
     "text": [
      "{1, 2, 3, 5}\n"
     ]
    }
   ],
   "source": [
    "# sets are unordered collection of data\n",
    "# set is represented using { }\n",
    "s = {1,2,3,5,5}\n",
    "print(s)\n",
    "# set wont contain duplicate elements"
   ]
  },
  {
   "cell_type": "code",
   "execution_count": 2,
   "metadata": {},
   "outputs": [
    {
     "name": "stdout",
     "output_type": "stream",
     "text": [
      "{'hello', True, 18, 8.6}\n"
     ]
    }
   ],
   "source": [
    "s = {\"hello\",18,True,8.6}\n",
    "print(s)\n",
    "# order may not be mainained (unordered collection)\n",
    "# therefore you cannot access elements using index"
   ]
  },
  {
   "cell_type": "code",
   "execution_count": 3,
   "metadata": {},
   "outputs": [
    {
     "name": "stdout",
     "output_type": "stream",
     "text": [
      "<class 'dict'>\n"
     ]
    }
   ],
   "source": [
    "h = {}\n",
    "# this will not create an empty set, it will be an empty dictionary\n",
    "# since both set and dictionary is enclosed within { }\n",
    "print(type(h))"
   ]
  },
  {
   "cell_type": "code",
   "execution_count": 4,
   "metadata": {},
   "outputs": [
    {
     "name": "stdout",
     "output_type": "stream",
     "text": [
      "<class 'set'>\n"
     ]
    }
   ],
   "source": [
    "# to create an empty set\n",
    "h = set()\n",
    "print(type(h))"
   ]
  },
  {
   "cell_type": "code",
   "execution_count": 5,
   "metadata": {},
   "outputs": [
    {
     "name": "stdout",
     "output_type": "stream",
     "text": [
      "1\n",
      "3\n",
      "5\n",
      "7\n",
      "9\n"
     ]
    }
   ],
   "source": [
    "odd = {1,3,5,7,9}\n",
    "for value in odd:\n",
    "    print(value)\n",
    "# to access values of a set"
   ]
  },
  {
   "cell_type": "code",
   "execution_count": 9,
   "metadata": {},
   "outputs": [
    {
     "name": "stdout",
     "output_type": "stream",
     "text": [
      "{64, 1, 4, 8, 9, 16, 25, 27, 125}\n",
      "{16, 1, 4, 9, 25} {64, 1, 8, 27, 125}\n"
     ]
    }
   ],
   "source": [
    "s1 = {1,4,9,16,25}\n",
    "s2 = {1,8,27,64,125}\n",
    "# to get union of sets\n",
    "print(s1.union(s2))  # s1 U s2\n",
    "# this wont change s1 or s2\n",
    "print(s1,s2)"
   ]
  },
  {
   "cell_type": "code",
   "execution_count": 8,
   "metadata": {},
   "outputs": [
    {
     "name": "stdout",
     "output_type": "stream",
     "text": [
      "{1, 2, 4, 6, 8, 9, 10, 16, 25}\n"
     ]
    }
   ],
   "source": [
    "s1.update(s2)\n",
    "# this will update s1 with the union of s1 and s2\n",
    "print(s1)"
   ]
  },
  {
   "cell_type": "code",
   "execution_count": 11,
   "metadata": {},
   "outputs": [
    {
     "name": "stdout",
     "output_type": "stream",
     "text": [
      "{'Delhi'}\n",
      "{'Berlin', 'Tokyo', 'Moscow', 'Delhi'} -- {'London', 'Copenhagen', 'Madrid', 'Delhi'}\n"
     ]
    }
   ],
   "source": [
    "cities1 = {'Delhi','Tokyo','Berlin','Moscow'}\n",
    "cities2 = {'Madrid','Copenhagen','Delhi','London'}\n",
    "print(cities1.intersection(cities2))  # cities1 ∩ cities2\n",
    "# this wont change the original sets\n",
    "print(cities1,cities2,sep=\" -- \")"
   ]
  },
  {
   "cell_type": "code",
   "execution_count": 12,
   "metadata": {},
   "outputs": [
    {
     "name": "stdout",
     "output_type": "stream",
     "text": [
      "{'Delhi'}\n"
     ]
    }
   ],
   "source": [
    "cities2.intersection_update(cities1)\n",
    "# this will update cities2 with the intersection of cities1 and cities2\n",
    "print(cities2)"
   ]
  },
  {
   "cell_type": "code",
   "execution_count": 14,
   "metadata": {},
   "outputs": [
    {
     "name": "stdout",
     "output_type": "stream",
     "text": [
      "{1, 3, 5, 8}\n",
      "{1, 3, 5}\n"
     ]
    }
   ],
   "source": [
    "a = {1,2,3,4,5,6}\n",
    "b = {2,4,6,8}\n",
    "print(a.symmetric_difference(b))  # (a U b) - (a ∩ b)\n",
    "# prints the elements that are not common to both\n",
    "\n",
    "print(a.difference(b)) # a-b\n",
    "# prints the values that are in a but not in b"
   ]
  },
  {
   "cell_type": "code",
   "execution_count": 15,
   "metadata": {},
   "outputs": [
    {
     "name": "stdout",
     "output_type": "stream",
     "text": [
      "True\n",
      "False\n"
     ]
    }
   ],
   "source": [
    "p = {1,2,3,4}\n",
    "q = {5,6,7,8}\n",
    "r = {1,3,5,7,9}\n",
    "print(p.isdisjoint(q))\n",
    "print(p.isdisjoint(r))\n",
    "# checks whether two sets are disjoined\n",
    "# disjoined => sets have no common value\n",
    "# ie a ∩ b = Φ(phy)"
   ]
  },
  {
   "cell_type": "code",
   "execution_count": 16,
   "metadata": {},
   "outputs": [
    {
     "name": "stdout",
     "output_type": "stream",
     "text": [
      "True\n",
      "True\n"
     ]
    }
   ],
   "source": [
    "a = {1,2,3}\n",
    "b = {1,2,3,4,5}\n",
    "print(a.issubset(b))\n",
    "# checks whether a is a subset of b\n",
    "print(b.issuperset(a))\n",
    "# checks whethere b is a superset of a"
   ]
  },
  {
   "cell_type": "code",
   "execution_count": 31,
   "metadata": {},
   "outputs": [
    {
     "name": "stdout",
     "output_type": "stream",
     "text": [
      "{16, 1, 49, 4, 36, 9, 25}\n"
     ]
    }
   ],
   "source": [
    "squares = {1,4,9,16,25,36}\n",
    "squares.add(49)\n",
    "#     'add'    method\n",
    "# to add a value into a set\n",
    "print(squares)"
   ]
  },
  {
   "cell_type": "code",
   "execution_count": 32,
   "metadata": {},
   "outputs": [
    {
     "name": "stdout",
     "output_type": "stream",
     "text": [
      "{64, 1, 4, 36, 100, 9, 16, 49, 81, 25}\n"
     ]
    }
   ],
   "source": [
    "# update method can be used to add multiple elements\n",
    "squares.update({64,81,100})\n",
    "print(squares)"
   ]
  },
  {
   "cell_type": "code",
   "execution_count": 29,
   "metadata": {},
   "outputs": [
    {
     "name": "stdout",
     "output_type": "stream",
     "text": [
      "{16, 1, 4, 9}\n",
      "Tried to remove an element which is not present using discard \n"
     ]
    }
   ],
   "source": [
    "# to remove elements from a set , we can use\n",
    "# 1.remove (will raise an error if element not found in the set)\n",
    "# 2.discard  (will not raise an error if element not found in the set)\n",
    "s1 = {1,4,9,16,25,36}\n",
    "s1.remove(25)\n",
    "s1.discard(36)\n",
    "print(s1)\n",
    "s1.discard(90)\n",
    "print(\"Tried to remove an element which is not present using discard \")\n",
    "# squares.remove(12)\n",
    "#  ↑ this statemant will cause an error\n"
   ]
  },
  {
   "cell_type": "code",
   "execution_count": 39,
   "metadata": {},
   "outputs": [
    {
     "name": "stdout",
     "output_type": "stream",
     "text": [
      "0\n"
     ]
    }
   ],
   "source": [
    "a1 = {0,1,2,3,4,5,6,7,8,9}\n",
    "a2 = a1.pop()\n",
    "# pop method removes the last element of the set\n",
    "# but since sets are unordered , we dont know which item gets popped\n",
    "print(a2)"
   ]
  },
  {
   "cell_type": "code",
   "execution_count": 44,
   "metadata": {},
   "outputs": [
    {
     "name": "stdout",
     "output_type": "stream",
     "text": [
      "{2, 4, 6, 8, 10}\n",
      "{2, 4, 6, 8, 10}\n"
     ]
    }
   ],
   "source": [
    "b1 = {2,4,6,8,10}\n",
    "print(b1)\n",
    "del(b1) # deletes the entire set\n",
    "\n",
    "# print(b1)\n",
    "\n",
    "# ↑ this statement will cause an error as the set now is deleted and does not exist"
   ]
  },
  {
   "cell_type": "code",
   "execution_count": 46,
   "metadata": {},
   "outputs": [
    {
     "name": "stdout",
     "output_type": "stream",
     "text": [
      "set()\n"
     ]
    }
   ],
   "source": [
    "c = {'a','b','c','d'}\n",
    "c.clear()\n",
    "\n",
    "# cleat method clears all elements of the set and returns an empty set unlike del\n",
    "\n",
    "print(c)"
   ]
  },
  {
   "cell_type": "code",
   "execution_count": 47,
   "metadata": {},
   "outputs": [
    {
     "name": "stdout",
     "output_type": "stream",
     "text": [
      "4 is present in d\n"
     ]
    }
   ],
   "source": [
    "d = {1,2,3,4,5}\n",
    "\n",
    "# we can use 'in' keyword to check whether an item exist in the set\n",
    "\n",
    "if(4 in d):\n",
    "    print(\"4 is present in d\")"
   ]
  }
 ],
 "metadata": {
  "kernelspec": {
   "display_name": "Python 3",
   "language": "python",
   "name": "python3"
  },
  "language_info": {
   "codemirror_mode": {
    "name": "ipython",
    "version": 3
   },
   "file_extension": ".py",
   "mimetype": "text/x-python",
   "name": "python",
   "nbconvert_exporter": "python",
   "pygments_lexer": "ipython3",
   "version": "3.11.0"
  },
  "orig_nbformat": 4,
  "vscode": {
   "interpreter": {
    "hash": "c261aea317cc0286b3b3261fbba9abdec21eaa57589985bb7a274bf54d6cc0a7"
   }
  }
 },
 "nbformat": 4,
 "nbformat_minor": 2
}
