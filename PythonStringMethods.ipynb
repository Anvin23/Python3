{
 "cells": [
  {
   "cell_type": "code",
   "execution_count": 1,
   "metadata": {},
   "outputs": [
    {
     "name": "stdout",
     "output_type": "stream",
     "text": [
      "Hello World \n"
     ]
    }
   ],
   "source": [
    "print(\"Hello World \")"
   ]
  },
  {
   "cell_type": "code",
   "execution_count": 2,
   "metadata": {},
   "outputs": [
    {
     "name": "stdout",
     "output_type": "stream",
     "text": [
      "My name is Anvin\n"
     ]
    }
   ],
   "source": [
    "a=\"Anvin\"\n",
    "print(\"My name is\",a)"
   ]
  },
  {
   "cell_type": "code",
   "execution_count": 5,
   "metadata": {},
   "outputs": [
    {
     "name": "stdout",
     "output_type": "stream",
     "text": [
      "python , C++\n",
      "6 - 3\n"
     ]
    }
   ],
   "source": [
    "lang1='python'\n",
    "lang2=\"C++\"\n",
    "# strings can be represented in python using ' ' as well as \"\"\n",
    "print(lang1,lang2,sep=\" , \")\n",
    "# sep seperates the strings(outputs) using the specified symbol\n",
    "print(len(lang1),len(lang2),sep=\" - \")"
   ]
  },
  {
   "cell_type": "code",
   "execution_count": 4,
   "metadata": {},
   "outputs": [
    {
     "name": "stdout",
     "output_type": "stream",
     "text": [
      "Pine\n",
      "Pine\n",
      "apple\n"
     ]
    }
   ],
   "source": [
    "fruit=\"Pineapple\"\n",
    "print(fruit[0:4]) # goes from index 0 to index '3' \n",
    "print(fruit[:4]) # same as above.0 is added automatically by python\n",
    "print(fruit[4:]) # starts from index 4 and goes till end"
   ]
  },
  {
   "cell_type": "code",
   "execution_count": 6,
   "metadata": {},
   "outputs": [
    {
     "name": "stdout",
     "output_type": "stream",
     "text": [
      "Pineap\n"
     ]
    }
   ],
   "source": [
    "print(fruit[0:-3])\n",
    "#  P  i  n  e  a  p  p  l  e\n",
    "#  0  1  2  3  4  5  6  7  8\n",
    "# -9 -8 -7 -6 -5 -4 -3 -2 -1\n",
    "# 0:-3 = 0:6 = 0:len(fruit)-3"
   ]
  },
  {
   "cell_type": "code",
   "execution_count": 4,
   "metadata": {},
   "outputs": [
    {
     "name": "stdout",
     "output_type": "stream",
     "text": [
      "A B C D E F G \n",
      "A,B,C,D,E,F,G,"
     ]
    }
   ],
   "source": [
    "letters = \"ABCDEFG\"\n",
    "for i in letters :\n",
    "    print(i,end=\" \")  # end indicates what to print after print statement is executed\n",
    "                      # by default it is \\n(next line character)\n",
    "print()  # it does not have anything to print but it prints \\n since default of end is \\n\n",
    "for i in letters :\n",
    "    print(i,end=\",\")\n",
    "# indentation indicates that it belongs to the for loop"
   ]
  },
  {
   "cell_type": "code",
   "execution_count": 6,
   "metadata": {},
   "outputs": [
    {
     "name": "stdout",
     "output_type": "stream",
     "text": [
      "HELLO PYTHON\n",
      "hello python\n",
      "Hello Python\n"
     ]
    }
   ],
   "source": [
    "My_string='Hello Python'\n",
    "print(My_string.upper()) # these methods does not change the original string,it creates a new string\n",
    "print(My_string.lower()) # strings are immutable in python\n",
    "print(My_string)"
   ]
  },
  {
   "cell_type": "code",
   "execution_count": 7,
   "metadata": {},
   "outputs": [
    {
     "name": "stdout",
     "output_type": "stream",
     "text": [
      "Oh no\n",
      "Oh!!!!! noo \n"
     ]
    }
   ],
   "source": [
    "a=\"Oh no!!!!!!!!\"\n",
    "print(a.rstrip(\"!\"))\n",
    "# it strips only trailing characters not in between characters\n",
    "b=\"Oh!!!!! noo !!!!!\"\n",
    "print(b.rstrip(\"!\"))"
   ]
  },
  {
   "cell_type": "code",
   "execution_count": 10,
   "metadata": {},
   "outputs": [
    {
     "name": "stdout",
     "output_type": "stream",
     "text": [
      "C++ is amazing\n",
      "Python is amazing\n"
     ]
    }
   ],
   "source": [
    "st=\"Python is amazing\"\n",
    "print(st.replace(\"Python\",\"C++\"))\n",
    "print(st.replace(\"python\",\"C++\"))\n",
    "# replaces \" all \" occurences of 'Python'(specified character or word) in the string\n",
    "# it is case sensitive "
   ]
  },
  {
   "cell_type": "code",
   "execution_count": 13,
   "metadata": {},
   "outputs": [
    {
     "name": "stdout",
     "output_type": "stream",
     "text": [
      "['Python', 'is', 'amazing']\n",
      "['coding', 'is', 'superb']\n"
     ]
    }
   ],
   "source": [
    "print(st.split(\" \"))\n",
    "# converts the string to list\n",
    "# the character given as parameter is used to split strings into elements of lists\n",
    "st2=\"coding-is-superb\"\n",
    "print(st2.split(\"-\"))"
   ]
  },
  {
   "cell_type": "code",
   "execution_count": 16,
   "metadata": {},
   "outputs": [
    {
     "name": "stdout",
     "output_type": "stream",
     "text": [
      "I am a developer\n"
     ]
    }
   ],
   "source": [
    "sentence = \"i am a Developer\"\n",
    "print(sentence.capitalize())\n",
    "# converts only the first character to upper case and all other characters to lower case"
   ]
  },
  {
   "cell_type": "code",
   "execution_count": 17,
   "metadata": {},
   "outputs": [
    {
     "name": "stdout",
     "output_type": "stream",
     "text": [
      "                     Welcome                      \n",
      "50\n"
     ]
    }
   ],
   "source": [
    "str=\"Welcome\"\n",
    "print(str.center(50))  # add white spaces in the beginning to make the total length as specified\n",
    "print(len(str.center(50)))"
   ]
  },
  {
   "cell_type": "code",
   "execution_count": 21,
   "metadata": {},
   "outputs": [
    {
     "name": "stdout",
     "output_type": "stream",
     "text": [
      "2\n",
      "0\n"
     ]
    }
   ],
   "source": [
    "str2=\"i like python.python is a great language\"\n",
    "print(str2.count(\"python\"))\n",
    "print(str2.count(\"Python\"))\n",
    "#    count() method\n",
    "# counts the number of occurence of a given character or string\n",
    "# it is case sensitive"
   ]
  },
  {
   "cell_type": "code",
   "execution_count": 23,
   "metadata": {},
   "outputs": [
    {
     "name": "stdout",
     "output_type": "stream",
     "text": [
      "True\n",
      "True\n",
      "False\n"
     ]
    }
   ],
   "source": [
    "str3=\"Welcome to VS code\"\n",
    "print(str3.endswith(\"code\"))\n",
    "print(str3.endswith(\"e\"))\n",
    "print(str3.endswith(\"E\"))\n",
    "#  endswith() method\n",
    "# checks whether the given string ends with the specified character or string\n",
    "# it is case sensitive"
   ]
  },
  {
   "cell_type": "code",
   "execution_count": 27,
   "metadata": {},
   "outputs": [
    {
     "name": "stdout",
     "output_type": "stream",
     "text": [
      "True\n",
      "False\n"
     ]
    }
   ],
   "source": [
    "print(str3.endswith(\"VS\",0,13))\n",
    "# checks whether the string ends with the specified string or character in the given index range\n",
    "print(str3.endswith(\"c\",3,6))"
   ]
  },
  {
   "cell_type": "code",
   "execution_count": 29,
   "metadata": {},
   "outputs": [
    {
     "name": "stdout",
     "output_type": "stream",
     "text": [
      "6\n",
      "-1\n"
     ]
    }
   ],
   "source": [
    "p=\"I use VS code for coding.Vs code is incredible\"\n",
    "print(p.find(\"VS\"))\n",
    "print(p.find(\"a\"))\n",
    "# returns the index of first occurence of the given character or string\n",
    "# returns -1 if not found"
   ]
  },
  {
   "cell_type": "code",
   "execution_count": 31,
   "metadata": {},
   "outputs": [
    {
     "name": "stdout",
     "output_type": "stream",
     "text": [
      "6\n"
     ]
    }
   ],
   "source": [
    "print(p.index(\"VS\"))\n",
    "# print(p.index(\"a\"))\n",
    "\n",
    "# same as find except it throws an exception if the specified string or character is not found\n"
   ]
  },
  {
   "cell_type": "code",
   "execution_count": 34,
   "metadata": {},
   "outputs": [
    {
     "name": "stdout",
     "output_type": "stream",
     "text": [
      "True\n",
      "False\n"
     ]
    }
   ],
   "source": [
    "q=\"Welcome2myJupyterNotebookinVScode\"\n",
    "print(q.isalnum()) # checks whether the string is alphanumeric\n",
    "print(q.isalpha()) # check whether the string contains only alphabets\n",
    "# presence of white space will give false since it is not an alphabet or number"
   ]
  },
  {
   "cell_type": "code",
   "execution_count": 37,
   "metadata": {},
   "outputs": [
    {
     "name": "stdout",
     "output_type": "stream",
     "text": [
      "False\n",
      "True\n"
     ]
    }
   ],
   "source": [
    "c=\"HELLO\"\n",
    "print(c.islower()) # check whether the string is all lower case\n",
    "print(c.isupper()) # check whether the string is all upper case"
   ]
  },
  {
   "cell_type": "code",
   "execution_count": 38,
   "metadata": {},
   "outputs": [
    {
     "name": "stdout",
     "output_type": "stream",
     "text": [
      "True\n",
      "False\n"
     ]
    }
   ],
   "source": [
    "str=\"Merry Christmas\"\n",
    "print(str.isprintable())\n",
    "str=\"Merry Christmas\\n\"\n",
    "print(str.isprintable()) # \\n is not a printable character"
   ]
  },
  {
   "cell_type": "code",
   "execution_count": 39,
   "metadata": {},
   "outputs": [
    {
     "name": "stdout",
     "output_type": "stream",
     "text": [
      "True\n",
      "False\n"
     ]
    }
   ],
   "source": [
    "str=\"World Health Organization\"\n",
    "print(str.istitle())\n",
    "str=\"This is a sentence\"\n",
    "print(str.istitle())\n",
    "# istitle returns true if each word in the string is capitalized else returns false"
   ]
  },
  {
   "cell_type": "code",
   "execution_count": 42,
   "metadata": {},
   "outputs": [
    {
     "name": "stdout",
     "output_type": "stream",
     "text": [
      "True\n",
      "False\n"
     ]
    }
   ],
   "source": [
    "p='Python is an interpreted language'\n",
    "print(p.startswith(\"Python\"))\n",
    "print(p.startswith(\"python\"))\n",
    "#  startswith() method\n",
    "# similar to endswith\n",
    "# check whether the string starts with the specified character or string or not\n",
    "# it is case sensitive"
   ]
  }
 ],
 "metadata": {
  "kernelspec": {
   "display_name": "Python 3",
   "language": "python",
   "name": "python3"
  },
  "language_info": {
   "codemirror_mode": {
    "name": "ipython",
    "version": 3
   },
   "file_extension": ".py",
   "mimetype": "text/x-python",
   "name": "python",
   "nbconvert_exporter": "python",
   "pygments_lexer": "ipython3",
   "version": "3.11.0"
  },
  "orig_nbformat": 4,
  "vscode": {
   "interpreter": {
    "hash": "c261aea317cc0286b3b3261fbba9abdec21eaa57589985bb7a274bf54d6cc0a7"
   }
  }
 },
 "nbformat": 4,
 "nbformat_minor": 2
}
